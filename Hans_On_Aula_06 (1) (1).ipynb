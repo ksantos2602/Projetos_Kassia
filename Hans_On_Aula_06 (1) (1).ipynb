{
 "cells": [
  {
   "cell_type": "markdown",
   "metadata": {
    "application/vnd.databricks.v1+cell": {
     "cellMetadata": {},
     "inputWidgets": {},
     "nuid": "1a239f5e-ada0-48e1-a592-e564a727f201",
     "showTitle": false,
     "title": ""
    },
    "id": "GSPieMzu5pp1"
   },
   "source": [
    "# Hands-On\n",
    "\n",
    "Você foi designado para realizar a limpeza e preparação de dados de dois conjuntos de dados (base1.csv e base2.csv) distintos que representam informações relacionadas a risco de crédito.\n",
    "\n",
    "Seu objetivo é ler os dois conjuntos de dados usando a biblioteca Pandas, realizar a concatenação dos dados, lidar com valores duplicados e faltantes, além de verificar a presença de outliers nos dados combinados.\n",
    "\n",
    "____\n",
    "\n",
    "## Passos a serem seguidos:\n",
    "\n",
    "1. **Leitura dos Arquivos:** Utilize a biblioteca Pandas para ler os dois arquivos de dados: 'base1.csv' e 'base2.csv', que estão no diretório datasets, no repositório do módulo.\n",
    "2. **Concatenação dos Dados:** Concatene os dois conjuntos de dados em um único DataFrame, verificando se os dados possuem a mesma estrutura para uma concatenação adequada.\n",
    "3. **Tratamento de Dados Duplicados:** Verifique se há linhas duplicadas no DataFrame combinado e remova-as, mantendo a primeira ocorrência.\n",
    "4. **Tratamento de Valores Faltantes:** Identifique e lide com os valores faltantes no DataFrame combinado. Preencha os valores ausentes com estratégias apropriadas (média, mediana, valor específico etc.) dependendo do contexto dos dados.\n",
    "5. **Verificação de Outliers:** Utilize métodos estatísticos ou gráficos (como boxplots) para identificar a presença de outliers nos dados. Considere se eles são significativos para a análise ou se precisam ser tratados de alguma forma."
   ]
  },
  {
   "cell_type": "code",
   "execution_count": 0,
   "metadata": {
    "application/vnd.databricks.v1+cell": {
     "cellMetadata": {
      "byteLimit": 2048000,
      "rowLimit": 10000
     },
     "inputWidgets": {},
     "nuid": "3976be44-ac26-47ac-b5eb-3af7a448c9b6",
     "showTitle": false,
     "title": ""
    },
    "id": "Lb-gowl26bzX"
   },
   "outputs": [],
   "source": [
    "import pandas as pd \n",
    "import matplotlib.pyplot as plt"
   ]
  },
  {
   "cell_type": "code",
   "execution_count": 0,
   "metadata": {
    "application/vnd.databricks.v1+cell": {
     "cellMetadata": {
      "byteLimit": 2048000,
      "rowLimit": 10000
     },
     "inputWidgets": {},
     "nuid": "2435c02e-ef79-4cb7-af56-7824d2de2ac1",
     "showTitle": false,
     "title": ""
    }
   },
   "outputs": [
    {
     "output_type": "stream",
     "name": "stdout",
     "output_type": "stream",
     "text": [
      "<class 'pandas.core.frame.DataFrame'>\nRangeIndex: 670 entries, 0 to 669\nData columns (total 12 columns):\n #   Column            Non-Null Count  Dtype \n---  ------            --------------  ----- \n 0   Unnamed: 0.1      670 non-null    int64 \n 1   Unnamed: 0        670 non-null    int64 \n 2   Age               670 non-null    int64 \n 3   Sex               670 non-null    object\n 4   Job               670 non-null    int64 \n 5   Housing           670 non-null    object\n 6   Saving accounts   547 non-null    object\n 7   Checking account  409 non-null    object\n 8   Credit amount     670 non-null    int64 \n 9   Duration          670 non-null    int64 \n 10  Purpose           670 non-null    object\n 11  Risk              670 non-null    object\ndtypes: int64(6), object(6)\nmemory usage: 62.9+ KB\n<class 'pandas.core.frame.DataFrame'>\nRangeIndex: 330 entries, 0 to 329\nData columns (total 12 columns):\n #   Column            Non-Null Count  Dtype \n---  ------            --------------  ----- \n 0   Unnamed: 0.1      330 non-null    int64 \n 1   Unnamed: 0        330 non-null    int64 \n 2   Age               330 non-null    int64 \n 3   Sex               330 non-null    object\n 4   Job               330 non-null    int64 \n 5   Housing           330 non-null    object\n 6   Saving accounts   270 non-null    object\n 7   Checking account  197 non-null    object\n 8   Credit amount     330 non-null    int64 \n 9   Duration          330 non-null    int64 \n 10  Purpose           330 non-null    object\n 11  Risk              330 non-null    object\ndtypes: int64(6), object(6)\nmemory usage: 31.1+ KB\n"
     ]
    }
   ],
   "source": [
    "#parte 1\n",
    "df_base1 = pd.read_csv('/Workspace/Repos/ksantos@unimedcampinas.com.br/ADA_classes/DS-PY-Data-Science/DS-PY-004 TÉCNICAS DE PROGRAMAÇÃO I (PY)/Material do Aluno/datasets/base1.csv')\n",
    "df_base2 = pd.read_csv('/Workspace/Repos/ksantos@unimedcampinas.com.br/ADA_classes/DS-PY-Data-Science/DS-PY-004 TÉCNICAS DE PROGRAMAÇÃO I (PY)/Material do Aluno/datasets/base2.csv')\n",
    "\n",
    "df_base1.info()\n",
    "df_base2.info()"
   ]
  },
  {
   "cell_type": "code",
   "execution_count": 0,
   "metadata": {
    "application/vnd.databricks.v1+cell": {
     "cellMetadata": {
      "byteLimit": 2048000,
      "rowLimit": 10000
     },
     "inputWidgets": {},
     "nuid": "4e4b61c5-e52f-4f29-9965-8953e8d758b0",
     "showTitle": false,
     "title": ""
    }
   },
   "outputs": [],
   "source": [
    "#parte 2\n",
    "base_concat = pd.concat([df_base1,df_base2])"
   ]
  },
  {
   "cell_type": "code",
   "execution_count": 0,
   "metadata": {
    "application/vnd.databricks.v1+cell": {
     "cellMetadata": {
      "byteLimit": 2048000,
      "rowLimit": 10000
     },
     "inputWidgets": {},
     "nuid": "ddaf8f75-d103-4172-a34a-8dc3a2d30617",
     "showTitle": false,
     "title": ""
    }
   },
   "outputs": [],
   "source": [
    "#parte3\n",
    "base_concat_nao_duplica = base_concat[~base_concat.duplicated()]"
   ]
  },
  {
   "cell_type": "code",
   "execution_count": 0,
   "metadata": {
    "application/vnd.databricks.v1+cell": {
     "cellMetadata": {
      "byteLimit": 2048000,
      "rowLimit": 10000
     },
     "inputWidgets": {},
     "nuid": "810e2470-fe31-4848-89e5-55ed2e7fbe31",
     "showTitle": false,
     "title": ""
    }
   },
   "outputs": [
    {
     "output_type": "stream",
     "name": "stdout",
     "output_type": "stream",
     "text": [
      "<class 'pandas.core.frame.DataFrame'>\nInt64Index: 1000 entries, 0 to 329\nData columns (total 12 columns):\n #   Column            Non-Null Count  Dtype \n---  ------            --------------  ----- \n 0   Unnamed: 0.1      1000 non-null   int64 \n 1   Unnamed: 0        1000 non-null   int64 \n 2   Age               1000 non-null   int64 \n 3   Sex               1000 non-null   object\n 4   Job               1000 non-null   int64 \n 5   Housing           1000 non-null   object\n 6   Saving accounts   817 non-null    object\n 7   Checking account  606 non-null    object\n 8   Credit amount     1000 non-null   int64 \n 9   Duration          1000 non-null   int64 \n 10  Purpose           1000 non-null   object\n 11  Risk              1000 non-null   object\ndtypes: int64(6), object(6)\nmemory usage: 101.6+ KB\n"
     ]
    }
   ],
   "source": [
    "#parte 4\n",
    "base_concat_nao_duplica.info()"
   ]
  },
  {
   "cell_type": "code",
   "execution_count": 0,
   "metadata": {
    "application/vnd.databricks.v1+cell": {
     "cellMetadata": {
      "byteLimit": 2048000,
      "rowLimit": 10000
     },
     "inputWidgets": {},
     "nuid": "16192c52-a356-48bc-90f6-c67e7eec7b4b",
     "showTitle": false,
     "title": ""
    }
   },
   "outputs": [
    {
     "output_type": "execute_result",
     "data": {
      "text/html": [
       "<div>\n",
       "<style scoped>\n",
       "    .dataframe tbody tr th:only-of-type {\n",
       "        vertical-align: middle;\n",
       "    }\n",
       "\n",
       "    .dataframe tbody tr th {\n",
       "        vertical-align: top;\n",
       "    }\n",
       "\n",
       "    .dataframe thead th {\n",
       "        text-align: right;\n",
       "    }\n",
       "</style>\n",
       "<table border=\"1\" class=\"dataframe\">\n",
       "  <thead>\n",
       "    <tr style=\"text-align: right;\">\n",
       "      <th></th>\n",
       "      <th>Unnamed: 0.1</th>\n",
       "      <th>Unnamed: 0</th>\n",
       "      <th>Age</th>\n",
       "      <th>Sex</th>\n",
       "      <th>Job</th>\n",
       "      <th>Housing</th>\n",
       "      <th>Saving accounts</th>\n",
       "      <th>Checking account</th>\n",
       "      <th>Credit amount</th>\n",
       "      <th>Duration</th>\n",
       "      <th>Purpose</th>\n",
       "      <th>Risk</th>\n",
       "    </tr>\n",
       "  </thead>\n",
       "  <tbody>\n",
       "    <tr>\n",
       "      <th>0</th>\n",
       "      <td>104</td>\n",
       "      <td>104</td>\n",
       "      <td>26</td>\n",
       "      <td>male</td>\n",
       "      <td>2</td>\n",
       "      <td>rent</td>\n",
       "      <td>NaN</td>\n",
       "      <td>NaN</td>\n",
       "      <td>2445</td>\n",
       "      <td>12</td>\n",
       "      <td>car</td>\n",
       "      <td>good</td>\n",
       "    </tr>\n",
       "    <tr>\n",
       "      <th>1</th>\n",
       "      <td>360</td>\n",
       "      <td>360</td>\n",
       "      <td>61</td>\n",
       "      <td>male</td>\n",
       "      <td>2</td>\n",
       "      <td>free</td>\n",
       "      <td>NaN</td>\n",
       "      <td>moderate</td>\n",
       "      <td>1239</td>\n",
       "      <td>18</td>\n",
       "      <td>education</td>\n",
       "      <td>good</td>\n",
       "    </tr>\n",
       "    <tr>\n",
       "      <th>2</th>\n",
       "      <td>695</td>\n",
       "      <td>695</td>\n",
       "      <td>50</td>\n",
       "      <td>male</td>\n",
       "      <td>2</td>\n",
       "      <td>rent</td>\n",
       "      <td>quite rich</td>\n",
       "      <td>NaN</td>\n",
       "      <td>1236</td>\n",
       "      <td>6</td>\n",
       "      <td>car</td>\n",
       "      <td>good</td>\n",
       "    </tr>\n",
       "    <tr>\n",
       "      <th>3</th>\n",
       "      <td>902</td>\n",
       "      <td>902</td>\n",
       "      <td>42</td>\n",
       "      <td>male</td>\n",
       "      <td>2</td>\n",
       "      <td>free</td>\n",
       "      <td>NaN</td>\n",
       "      <td>NaN</td>\n",
       "      <td>10477</td>\n",
       "      <td>36</td>\n",
       "      <td>car</td>\n",
       "      <td>good</td>\n",
       "    </tr>\n",
       "    <tr>\n",
       "      <th>4</th>\n",
       "      <td>312</td>\n",
       "      <td>312</td>\n",
       "      <td>26</td>\n",
       "      <td>female</td>\n",
       "      <td>2</td>\n",
       "      <td>own</td>\n",
       "      <td>little</td>\n",
       "      <td>rich</td>\n",
       "      <td>3749</td>\n",
       "      <td>24</td>\n",
       "      <td>furniture/equipment</td>\n",
       "      <td>good</td>\n",
       "    </tr>\n",
       "    <tr>\n",
       "      <th>...</th>\n",
       "      <td>...</td>\n",
       "      <td>...</td>\n",
       "      <td>...</td>\n",
       "      <td>...</td>\n",
       "      <td>...</td>\n",
       "      <td>...</td>\n",
       "      <td>...</td>\n",
       "      <td>...</td>\n",
       "      <td>...</td>\n",
       "      <td>...</td>\n",
       "      <td>...</td>\n",
       "      <td>...</td>\n",
       "    </tr>\n",
       "    <tr>\n",
       "      <th>325</th>\n",
       "      <td>467</td>\n",
       "      <td>467</td>\n",
       "      <td>32</td>\n",
       "      <td>male</td>\n",
       "      <td>2</td>\n",
       "      <td>own</td>\n",
       "      <td>NaN</td>\n",
       "      <td>NaN</td>\n",
       "      <td>7238</td>\n",
       "      <td>48</td>\n",
       "      <td>radio/TV</td>\n",
       "      <td>good</td>\n",
       "    </tr>\n",
       "    <tr>\n",
       "      <th>326</th>\n",
       "      <td>829</td>\n",
       "      <td>829</td>\n",
       "      <td>38</td>\n",
       "      <td>male</td>\n",
       "      <td>2</td>\n",
       "      <td>free</td>\n",
       "      <td>NaN</td>\n",
       "      <td>moderate</td>\n",
       "      <td>6681</td>\n",
       "      <td>48</td>\n",
       "      <td>business</td>\n",
       "      <td>good</td>\n",
       "    </tr>\n",
       "    <tr>\n",
       "      <th>327</th>\n",
       "      <td>296</td>\n",
       "      <td>296</td>\n",
       "      <td>20</td>\n",
       "      <td>female</td>\n",
       "      <td>2</td>\n",
       "      <td>rent</td>\n",
       "      <td>NaN</td>\n",
       "      <td>NaN</td>\n",
       "      <td>4675</td>\n",
       "      <td>12</td>\n",
       "      <td>car</td>\n",
       "      <td>good</td>\n",
       "    </tr>\n",
       "    <tr>\n",
       "      <th>328</th>\n",
       "      <td>235</td>\n",
       "      <td>235</td>\n",
       "      <td>30</td>\n",
       "      <td>male</td>\n",
       "      <td>3</td>\n",
       "      <td>own</td>\n",
       "      <td>little</td>\n",
       "      <td>little</td>\n",
       "      <td>1823</td>\n",
       "      <td>24</td>\n",
       "      <td>radio/TV</td>\n",
       "      <td>bad</td>\n",
       "    </tr>\n",
       "    <tr>\n",
       "      <th>329</th>\n",
       "      <td>633</td>\n",
       "      <td>633</td>\n",
       "      <td>19</td>\n",
       "      <td>female</td>\n",
       "      <td>2</td>\n",
       "      <td>rent</td>\n",
       "      <td>little</td>\n",
       "      <td>NaN</td>\n",
       "      <td>1980</td>\n",
       "      <td>9</td>\n",
       "      <td>furniture/equipment</td>\n",
       "      <td>bad</td>\n",
       "    </tr>\n",
       "  </tbody>\n",
       "</table>\n",
       "<p>1000 rows × 12 columns</p>\n",
       "</div>"
      ],
      "text/plain": [
       "     Unnamed: 0.1  Unnamed: 0  Age  ... Duration              Purpose  Risk\n",
       "0             104         104   26  ...       12                  car  good\n",
       "1             360         360   61  ...       18            education  good\n",
       "2             695         695   50  ...        6                  car  good\n",
       "3             902         902   42  ...       36                  car  good\n",
       "4             312         312   26  ...       24  furniture/equipment  good\n",
       "..            ...         ...  ...  ...      ...                  ...   ...\n",
       "325           467         467   32  ...       48             radio/TV  good\n",
       "326           829         829   38  ...       48             business  good\n",
       "327           296         296   20  ...       12                  car  good\n",
       "328           235         235   30  ...       24             radio/TV   bad\n",
       "329           633         633   19  ...        9  furniture/equipment   bad\n",
       "\n",
       "[1000 rows x 12 columns]"
      ]
     },
     "execution_count": 16,
     "metadata": {},
     "output_type": "execute_result"
    }
   ],
   "source": [
    "base_concat_nao_duplica"
   ]
  },
  {
   "cell_type": "code",
   "execution_count": 0,
   "metadata": {
    "application/vnd.databricks.v1+cell": {
     "cellMetadata": {
      "byteLimit": 2048000,
      "rowLimit": 10000
     },
     "inputWidgets": {},
     "nuid": "4ded3876-6085-4357-809c-fb9aee3b3681",
     "showTitle": false,
     "title": ""
    }
   },
   "outputs": [],
   "source": [
    "base_concat_nao_duplica['Saving accounts'].fillna('Não informado',inplace=True)\n",
    "base_concat_nao_duplica['Checking account'].fillna('Não informado', inplace=True)"
   ]
  },
  {
   "cell_type": "code",
   "execution_count": 0,
   "metadata": {
    "application/vnd.databricks.v1+cell": {
     "cellMetadata": {
      "byteLimit": 2048000,
      "rowLimit": 10000
     },
     "inputWidgets": {},
     "nuid": "618cb4bb-275a-4efe-921d-932d8138dd05",
     "showTitle": false,
     "title": ""
    }
   },
   "outputs": [
    {
     "output_type": "execute_result",
     "data": {
      "text/html": [
       "<div>\n",
       "<style scoped>\n",
       "    .dataframe tbody tr th:only-of-type {\n",
       "        vertical-align: middle;\n",
       "    }\n",
       "\n",
       "    .dataframe tbody tr th {\n",
       "        vertical-align: top;\n",
       "    }\n",
       "\n",
       "    .dataframe thead th {\n",
       "        text-align: right;\n",
       "    }\n",
       "</style>\n",
       "<table border=\"1\" class=\"dataframe\">\n",
       "  <thead>\n",
       "    <tr style=\"text-align: right;\">\n",
       "      <th></th>\n",
       "      <th>Unnamed: 0.1</th>\n",
       "      <th>Unnamed: 0</th>\n",
       "      <th>Age</th>\n",
       "      <th>Sex</th>\n",
       "      <th>Job</th>\n",
       "      <th>Housing</th>\n",
       "      <th>Saving accounts</th>\n",
       "      <th>Checking account</th>\n",
       "      <th>Credit amount</th>\n",
       "      <th>Duration</th>\n",
       "      <th>Purpose</th>\n",
       "      <th>Risk</th>\n",
       "    </tr>\n",
       "  </thead>\n",
       "  <tbody>\n",
       "    <tr>\n",
       "      <th>0</th>\n",
       "      <td>104</td>\n",
       "      <td>104</td>\n",
       "      <td>26</td>\n",
       "      <td>male</td>\n",
       "      <td>2</td>\n",
       "      <td>rent</td>\n",
       "      <td>Não informado</td>\n",
       "      <td>Não informado</td>\n",
       "      <td>2445</td>\n",
       "      <td>12</td>\n",
       "      <td>car</td>\n",
       "      <td>good</td>\n",
       "    </tr>\n",
       "    <tr>\n",
       "      <th>1</th>\n",
       "      <td>360</td>\n",
       "      <td>360</td>\n",
       "      <td>61</td>\n",
       "      <td>male</td>\n",
       "      <td>2</td>\n",
       "      <td>free</td>\n",
       "      <td>Não informado</td>\n",
       "      <td>moderate</td>\n",
       "      <td>1239</td>\n",
       "      <td>18</td>\n",
       "      <td>education</td>\n",
       "      <td>good</td>\n",
       "    </tr>\n",
       "    <tr>\n",
       "      <th>2</th>\n",
       "      <td>695</td>\n",
       "      <td>695</td>\n",
       "      <td>50</td>\n",
       "      <td>male</td>\n",
       "      <td>2</td>\n",
       "      <td>rent</td>\n",
       "      <td>quite rich</td>\n",
       "      <td>Não informado</td>\n",
       "      <td>1236</td>\n",
       "      <td>6</td>\n",
       "      <td>car</td>\n",
       "      <td>good</td>\n",
       "    </tr>\n",
       "    <tr>\n",
       "      <th>3</th>\n",
       "      <td>902</td>\n",
       "      <td>902</td>\n",
       "      <td>42</td>\n",
       "      <td>male</td>\n",
       "      <td>2</td>\n",
       "      <td>free</td>\n",
       "      <td>Não informado</td>\n",
       "      <td>Não informado</td>\n",
       "      <td>10477</td>\n",
       "      <td>36</td>\n",
       "      <td>car</td>\n",
       "      <td>good</td>\n",
       "    </tr>\n",
       "    <tr>\n",
       "      <th>4</th>\n",
       "      <td>312</td>\n",
       "      <td>312</td>\n",
       "      <td>26</td>\n",
       "      <td>female</td>\n",
       "      <td>2</td>\n",
       "      <td>own</td>\n",
       "      <td>little</td>\n",
       "      <td>rich</td>\n",
       "      <td>3749</td>\n",
       "      <td>24</td>\n",
       "      <td>furniture/equipment</td>\n",
       "      <td>good</td>\n",
       "    </tr>\n",
       "    <tr>\n",
       "      <th>...</th>\n",
       "      <td>...</td>\n",
       "      <td>...</td>\n",
       "      <td>...</td>\n",
       "      <td>...</td>\n",
       "      <td>...</td>\n",
       "      <td>...</td>\n",
       "      <td>...</td>\n",
       "      <td>...</td>\n",
       "      <td>...</td>\n",
       "      <td>...</td>\n",
       "      <td>...</td>\n",
       "      <td>...</td>\n",
       "    </tr>\n",
       "    <tr>\n",
       "      <th>325</th>\n",
       "      <td>467</td>\n",
       "      <td>467</td>\n",
       "      <td>32</td>\n",
       "      <td>male</td>\n",
       "      <td>2</td>\n",
       "      <td>own</td>\n",
       "      <td>Não informado</td>\n",
       "      <td>Não informado</td>\n",
       "      <td>7238</td>\n",
       "      <td>48</td>\n",
       "      <td>radio/TV</td>\n",
       "      <td>good</td>\n",
       "    </tr>\n",
       "    <tr>\n",
       "      <th>326</th>\n",
       "      <td>829</td>\n",
       "      <td>829</td>\n",
       "      <td>38</td>\n",
       "      <td>male</td>\n",
       "      <td>2</td>\n",
       "      <td>free</td>\n",
       "      <td>Não informado</td>\n",
       "      <td>moderate</td>\n",
       "      <td>6681</td>\n",
       "      <td>48</td>\n",
       "      <td>business</td>\n",
       "      <td>good</td>\n",
       "    </tr>\n",
       "    <tr>\n",
       "      <th>327</th>\n",
       "      <td>296</td>\n",
       "      <td>296</td>\n",
       "      <td>20</td>\n",
       "      <td>female</td>\n",
       "      <td>2</td>\n",
       "      <td>rent</td>\n",
       "      <td>Não informado</td>\n",
       "      <td>Não informado</td>\n",
       "      <td>4675</td>\n",
       "      <td>12</td>\n",
       "      <td>car</td>\n",
       "      <td>good</td>\n",
       "    </tr>\n",
       "    <tr>\n",
       "      <th>328</th>\n",
       "      <td>235</td>\n",
       "      <td>235</td>\n",
       "      <td>30</td>\n",
       "      <td>male</td>\n",
       "      <td>3</td>\n",
       "      <td>own</td>\n",
       "      <td>little</td>\n",
       "      <td>little</td>\n",
       "      <td>1823</td>\n",
       "      <td>24</td>\n",
       "      <td>radio/TV</td>\n",
       "      <td>bad</td>\n",
       "    </tr>\n",
       "    <tr>\n",
       "      <th>329</th>\n",
       "      <td>633</td>\n",
       "      <td>633</td>\n",
       "      <td>19</td>\n",
       "      <td>female</td>\n",
       "      <td>2</td>\n",
       "      <td>rent</td>\n",
       "      <td>little</td>\n",
       "      <td>Não informado</td>\n",
       "      <td>1980</td>\n",
       "      <td>9</td>\n",
       "      <td>furniture/equipment</td>\n",
       "      <td>bad</td>\n",
       "    </tr>\n",
       "  </tbody>\n",
       "</table>\n",
       "<p>1000 rows × 12 columns</p>\n",
       "</div>"
      ],
      "text/plain": [
       "     Unnamed: 0.1  Unnamed: 0  Age  ... Duration              Purpose  Risk\n",
       "0             104         104   26  ...       12                  car  good\n",
       "1             360         360   61  ...       18            education  good\n",
       "2             695         695   50  ...        6                  car  good\n",
       "3             902         902   42  ...       36                  car  good\n",
       "4             312         312   26  ...       24  furniture/equipment  good\n",
       "..            ...         ...  ...  ...      ...                  ...   ...\n",
       "325           467         467   32  ...       48             radio/TV  good\n",
       "326           829         829   38  ...       48             business  good\n",
       "327           296         296   20  ...       12                  car  good\n",
       "328           235         235   30  ...       24             radio/TV   bad\n",
       "329           633         633   19  ...        9  furniture/equipment   bad\n",
       "\n",
       "[1000 rows x 12 columns]"
      ]
     },
     "execution_count": 26,
     "metadata": {},
     "output_type": "execute_result"
    }
   ],
   "source": [
    "base_concat_nao_duplica"
   ]
  },
  {
   "cell_type": "code",
   "execution_count": 0,
   "metadata": {
    "application/vnd.databricks.v1+cell": {
     "cellMetadata": {
      "byteLimit": 2048000,
      "rowLimit": 10000
     },
     "inputWidgets": {},
     "nuid": "ee797a38-a246-4904-8a64-1eaded74ac56",
     "showTitle": false,
     "title": ""
    }
   },
   "outputs": [],
   "source": [
    "#parte 5\n"
   ]
  },
  {
   "cell_type": "code",
   "execution_count": 0,
   "metadata": {
    "application/vnd.databricks.v1+cell": {
     "cellMetadata": {
      "byteLimit": 2048000,
      "rowLimit": 10000
     },
     "inputWidgets": {},
     "nuid": "b8991df5-da14-4492-aee1-37040aee952f",
     "showTitle": false,
     "title": ""
    }
   },
   "outputs": [],
   "source": [
    "import matplotlib.pyplot as plt"
   ]
  },
  {
   "cell_type": "code",
   "execution_count": 0,
   "metadata": {
    "application/vnd.databricks.v1+cell": {
     "cellMetadata": {
      "byteLimit": 2048000,
      "rowLimit": 10000
     },
     "inputWidgets": {},
     "nuid": "4a6e7667-2741-494b-a534-86a79e6e1727",
     "showTitle": false,
     "title": ""
    }
   },
   "outputs": [
    {
     "output_type": "display_data",
     "data": {
      "image/png": "[encoded data removed]",
      "text/plain": [
       "<Figure size 640x480 with 1 Axes>"
      ]
     },
     "metadata": {},
     "output_type": "display_data"
    }
   ],
   "source": [
    "base_concat_nao_duplica.boxplot()\n",
    "plt.title('Boxplot das colunas')\n",
    "plt.xlabel('Grupos')\n",
    "plt.ylabel('Valores')\n",
    "plt.show()"
   ]
  },
  {
   "cell_type": "code",
   "execution_count": 0,
   "metadata": {
    "application/vnd.databricks.v1+cell": {
     "cellMetadata": {
      "byteLimit": 2048000,
      "rowLimit": 10000
     },
     "inputWidgets": {},
     "nuid": "e0758ac8-beaf-4cbc-a457-6bdba9fc93c1",
     "showTitle": false,
     "title": ""
    }
   },
   "outputs": [
    {
     "output_type": "display_data",
     "data": {
      "image/png": "[encoded data removed]",
      "text/plain": [
       "<Figure size 640x480 with 1 Axes>"
      ]
     },
     "metadata": {},
     "output_type": "display_data"
    }
   ],
   "source": [
    "\n",
    "base_concat_nao_duplica.boxplot('Credit amount')\n",
    "plt.title('Boxplot Credit amount')\n",
    "plt.xlabel('Grupos')\n",
    "plt.ylabel('Valores')\n",
    "plt.show()"
   ]
  },
  {
   "cell_type": "code",
   "execution_count": 0,
   "metadata": {
    "application/vnd.databricks.v1+cell": {
     "cellMetadata": {
      "byteLimit": 2048000,
      "rowLimit": 10000
     },
     "inputWidgets": {},
     "nuid": "8f39ac92-8f43-4076-8e4d-6e3c15bf78fe",
     "showTitle": false,
     "title": ""
    }
   },
   "outputs": [],
   "source": [
    "def identificar_outliers(df, coluna):\n",
    "    # Calculando o primeiro e terceiro quartis\n",
    "    Q1 = df[coluna].quantile(0.25) #Primeiro Quartil\n",
    "    Q3 = df[coluna].quantile(0.75) #Terceiro Quartil\n",
    "   \n",
    "    # Calculando o IQR (Intervalo Interquartil)\n",
    "    IQR = Q3 - Q1\n",
    "   \n",
    "    # Calculando os limites superior e inferior para identificar os outliers\n",
    "    limite_inferior = Q1 - 1.5 * IQR\n",
    "    limite_superior = Q3 + 1.5 * IQR"
   ]
  },
  {
   "cell_type": "code",
   "execution_count": 0,
   "metadata": {
    "application/vnd.databricks.v1+cell": {
     "cellMetadata": {
      "byteLimit": 2048000,
      "rowLimit": 10000
     },
     "inputWidgets": {},
     "nuid": "168f4f1d-4044-4336-ae54-0c3a0f5740a0",
     "showTitle": false,
     "title": ""
    }
   },
   "outputs": [],
   "source": [
    "outliers_encontrados = identificar_outliers(base_concat_nao_duplica,'Credit amount')"
   ]
  }
 ],
 "metadata": {
  "application/vnd.databricks.v1+notebook": {
   "dashboards": [],
   "language": "python",
   "notebookMetadata": {
    "pythonIndentUnit": 4
   },
   "notebookName": "Hans_On_Aula_06 (1)",
   "widgets": {}
  },
  "colab": {
   "provenance": []
  },
  "kernelspec": {
   "display_name": "Python 3",
   "name": "python3"
  },
  "language_info": {
   "name": "python"
  }
 },
 "nbformat": 4,
 "nbformat_minor": 0
}
