{
  "nbformat": 4,
  "nbformat_minor": 0,
  "metadata": {
    "colab": {
      "provenance": []
    },
    "kernelspec": {
      "name": "python3",
      "display_name": "Python 3"
    },
    "language_info": {
      "name": "python"
    }
  },
  "cells": [
    {
      "cell_type": "code",
      "execution_count": 4,
      "metadata": {
        "colab": {
          "base_uri": "https://localhost:8080/"
        },
        "id": "UykHFZFh5Hu4",
        "outputId": "955ca790-9153-479c-c715-e63ee0871591"
      },
      "outputs": [
        {
          "output_type": "stream",
          "name": "stdout",
          "text": [
            "Soma dos resultados dos jogos: 6\n",
            "Resultado das Jogadas: [12  8  6  6  3 11  6  7  6  8  4  7  4  8  8  8 12  7  6  4  6  9  6  9\n",
            "  6  9  9 10  8  7  6  5  8  5  8  6  5  4  5  9  8 10  6  3  4  7  6  8\n",
            "  5  8  8  6  7  5  3  9 10  5  8  6  9  5  8  6  7  6  4  2  5 10  7  8\n",
            "  7  9  4  3  6  7  6  9  2 10 10  7 12  3  9  6  2  2  5  5  8  9  3  7\n",
            "  8  7  6  7  5 11 10  9 10  5  3  6  6  7  7  5  8  5  9  5  4  8  8  6\n",
            "  3  4  7  5  3  5 11  7  6 10  7  7  3  9  7 11  9 11  7 11  2  7  4  7\n",
            " 12  8  2  7  4  3  7  3  7  8  4 11 10  9  6  7  7  4 11  6  6  4  6  4\n",
            "  6  6  9  6 10  8 10  6  2  5  6 12  2  3  9  6 10  4  8  4  7  5  9  5\n",
            "  7  3  7  5  5  8  4  8  9 10  8 12  4  9  5  4  4  5  8  6  7  9  6  5\n",
            "  5  6  5  7 11  5  9  9  6  6  9  8  3 10  7  6 11  7  6 11  8 11 10  7\n",
            "  6  8  8  4  6  2  8  7  3  7  6  5  8  6  8  3 11  7  6 10 11 11  8  4\n",
            "  8  4  8  7  6  4  6  4  6 10  6  3  8  3 11  4  9  4  5  8  8  3  6  7\n",
            "  4  4  5 10 10  8  4 10  3  8  8  8  7  6 11  7 10  6  6  4  8 10  6  2\n",
            " 11  9 10 12  8 11  5  5  7  9  7  6  9 12  2  2  7  9  5  9  7  8  3  5\n",
            "  6 10 10  3  3  7  8  5  8 10  7  5  9  3  9  8  2  6  9  5  7  6  5  9\n",
            "  3  8  4  7  7 10 11  7 10  6 10  7 10  6  6  7 10  5  9  7  6  7 12 10\n",
            "  9  7 12  7 10  5 12  6  5  6 10  7  4  7  9  6  7  8 10  5  3 10  6  9\n",
            "  6 10  4  5 11  3  6  5  7  7  9  4  6  3  5  7 10 11  5  7  5  3  5 10\n",
            " 11 11  9  9  2  6  7  5  5  8  9  8  6  8  4  2  9  8  7  5  8  6  5  9\n",
            "  6  4  6  9  5  8  6  9  9  7  9  8  9  9 10  9  6  7  7  7  9 10  8 12\n",
            " 11  8  4 11  6  8  9  9  8  4  5 10  5  7 11  5  8  3  7  7  8  5  6  2\n",
            "  6  6  7  6  6 11  3  3  9 11  3  2 11 10  8  7 11  9  5  5 10  4  4  5\n",
            "  9  9 10  4  7 10 12  6  9  7 11  6  8  4  5  7  8  4  7  9  7  9  8  9\n",
            " 10  6  3  4  9 10  8  6  5  7  3  6  8  6  3  7  5 11  7  8  7  9  8 11\n",
            "  4  6 11  6  9  3  8  4  5  7 11  9  3  5  7  7  7  4  8  5 10  7  5  8\n",
            "  6  4  8 12  8 11  8  3  8  4  6 11  8  5  7  7  4  6  8 12  7 11  6  8\n",
            "  4  7 10  2 11  5  8 11  7  6  4 11 11  5  5  9  8  7 10 10  6  7  7  7\n",
            "  8  8  7  7  5  4 10  4  5  9  9  5  5  6  6  7  5  2  6  7  7 11 11  7\n",
            "  6  7  4  3 11  5  6  9  7 12  3  7 12 11  4  7  8  3  9 10  5 11  8  8\n",
            "  8  6  7  4  7  4  5  6  7  4  4  3 10  6 10  9  6  5  7  5  8  8 12  4\n",
            "  9  6  8 10 10  8  7  9 12  7 10  9 10  9  6 10  8  6  7  9  5 10  6 10\n",
            " 12  7  5 11  7  6  9  6  3  7  5  3  5  9 12  8  7 10  8 12  6  2  6  5\n",
            "  2  8  9  8 11  6  6  5  4  6  3  7  8  6  9  6  4  9  4  7  7  8  7  6\n",
            "  9  6 10 10  5  7  6  4  8  3  8 12  7 10  9  6  7  8  6  8  9  7  8  5\n",
            "  7  8  8  6  4 10  9  5  8  8  2  7 11  6  8 10  9  9  9  9 10  7  9  5\n",
            "  7  8  7  6  9 10  3  6  4  5  7 11  5 11  8  5  6  8  6  9  7  9  3  5\n",
            "  6  6  4  8  4  7  8  6  6  8  5 11  9  4  9  6  9  2  3 10 10  5  4  6\n",
            "  3  7  9  4  7  8 10  4  2  8 10  7  6  8  6  4  8  6  8  7 10  8  7  5\n",
            "  6  5  2  7 11  4  7  7 11  6  2  3 11  4  8  6  4  7 10  8 12  7  9  7\n",
            "  5  4  6  9  8 10  8  6  8  9  8  5  4  7 11 12 10 10 10  4  9  3  5  6\n",
            " 11 10 12  9  9  7  5  3  4 10  4  8  9  9  7  5  6  7  4  8  3  7 10 12\n",
            "  8  5  8  8  5  8  5  8  8  7  7  8  4  9  6  4]\n",
            "média das jogadas: 7.002\n",
            "lançamento maximo: 12\n",
            "lançamento minimo: 2\n"
          ]
        },
        {
          "output_type": "execute_result",
          "data": {
            "text/plain": [
              "array([ 26,  56,  87, 109, 147, 156, 140, 108,  85,  59,  27])"
            ]
          },
          "metadata": {},
          "execution_count": 4
        }
      ],
      "source": [
        "import numpy as np\n",
        "import random\n",
        "\n",
        "# parte 1\n",
        "def simula_dois_dados():\n",
        "    return np.random.randint(1, 7, size=2).sum()\n",
        "\n",
        "dado_1 = [1,6]\n",
        "dado_2 = [1,6]\n",
        "\n",
        "resultado = simula_dois_dados()\n",
        "print('Soma dos resultados dos jogos:', resultado)\n",
        "\n",
        "\n",
        "# parte 2\n",
        "def dados_jogo(dj_1, dj_2, num_simula):\n",
        "  jogada1 = np.random.choice(dj_1, size=(num_simula))\n",
        "  jogada2 = np.random.choice(dj_2, size=(num_simula))\n",
        "\n",
        "  soma = jogada1 + jogada2\n",
        "  return soma\n",
        "\n",
        "dj_1 = [1,2,3,4,5,6]\n",
        "dj_2 = [1,2,3,4,5,6]\n",
        "num_simula = 1000\n",
        "\n",
        "results = dados_jogo(dj_1, dj_2, num_simula)\n",
        "print (\"Resultado das Jogadas:\", results)\n",
        "\n",
        "# parte 3 média, max e min\n",
        "resultado.mean()\n",
        "print(\"média das jogadas:\", results.mean())\n",
        "\n",
        "resultado.max()\n",
        "print(\"lançamento maximo:\", results.max())\n",
        "\n",
        "resultado.min()\n",
        "print(\"lançamento minimo:\", results.min())\n",
        "\n",
        "\n",
        "# Contagem de ocorrências\n",
        "contagem_x = np.bincount(results)[2:]\n",
        "contagem_x\n"
      ]
    }
  ]
}